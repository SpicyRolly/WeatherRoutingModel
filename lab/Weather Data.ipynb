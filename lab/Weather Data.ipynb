{
 "cells": [
  {
   "cell_type": "code",
   "execution_count": 3,
   "id": "debb87e3",
   "metadata": {},
   "outputs": [
    {
     "name": "stdout",
     "output_type": "stream",
     "text": [
      "Requirement already satisfied: ecmwf-api-client in c:\\users\\pslat\\anaconda3\\lib\\site-packages (1.6.3)\n",
      "Note: you may need to restart the kernel to use updated packages.\n"
     ]
    }
   ],
   "source": [
    "pip install ecmwf-api-client"
   ]
  },
  {
   "cell_type": "code",
   "execution_count": 1,
   "id": "9a509757",
   "metadata": {},
   "outputs": [],
   "source": [
    "import pandas as pd\n",
    "import numpy as np\n",
    "\n",
    "from requests import get, post"
   ]
  },
  {
   "cell_type": "code",
   "execution_count": 6,
   "id": "61f96f23",
   "metadata": {},
   "outputs": [
    {
     "name": "stdout",
     "output_type": "stream",
     "text": [
      "Collecting pyproj\n",
      "  Using cached pyproj-3.6.0-cp39-cp39-win_amd64.whl (5.8 MB)\n",
      "Requirement already satisfied: certifi in c:\\users\\pslat\\anaconda3\\lib\\site-packages (from pyproj) (2021.10.8)\n",
      "Installing collected packages: pyproj\n",
      "Successfully installed pyproj-3.6.0\n",
      "Note: you may need to restart the kernel to use updated packages.\n"
     ]
    }
   ],
   "source": [
    "pip install pyproj"
   ]
  },
  {
   "cell_type": "code",
   "execution_count": 7,
   "id": "1cf6899f",
   "metadata": {},
   "outputs": [
    {
     "name": "stdout",
     "output_type": "stream",
     "text": [
      "^C\n",
      "\n",
      "Note: you may need to restart the kernel to use updated packages.\n"
     ]
    }
   ],
   "source": [
    "conda install -c conda-forge pygrib"
   ]
  },
  {
   "cell_type": "code",
   "execution_count": null,
   "id": "08e70c49",
   "metadata": {},
   "outputs": [],
   "source": []
  }
 ],
 "metadata": {
  "kernelspec": {
   "display_name": "Python 3 (ipykernel)",
   "language": "python",
   "name": "python3"
  },
  "language_info": {
   "codemirror_mode": {
    "name": "ipython",
    "version": 3
   },
   "file_extension": ".py",
   "mimetype": "text/x-python",
   "name": "python",
   "nbconvert_exporter": "python",
   "pygments_lexer": "ipython3",
   "version": "3.9.7"
  }
 },
 "nbformat": 4,
 "nbformat_minor": 5
}
